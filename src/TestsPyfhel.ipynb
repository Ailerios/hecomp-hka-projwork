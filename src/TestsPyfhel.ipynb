{
 "cells": [
  {
   "cell_type": "markdown",
   "metadata": {},
   "source": [
    "# Tests Pyfhel"
   ]
  },
  {
   "cell_type": "code",
   "execution_count": 1,
   "metadata": {
    "collapsed": false,
    "jupyter": {
     "outputs_hidden": false
    }
   },
   "outputs": [],
   "source": [
    "import numpy as np\n",
    "from Pyfhel import Pyfhel"
   ]
  },
  {
   "cell_type": "code",
   "execution_count": 2,
   "metadata": {
    "collapsed": false,
    "jupyter": {
     "outputs_hidden": false
    }
   },
   "outputs": [],
   "source": [
    "HE = Pyfhel()           # Creating empty Pyfhel object\n",
    "bfv_params = {\n",
    "    'scheme': 'BFV',    # can also be 'bfv'\n",
    "    'n': 2**13,         # Polynomial modulus degree, the num. of slots per plaintext,\n",
    "                        #  of elements to be encoded in a single ciphertext in a\n",
    "                        #  2 by n/2 rectangular matrix (mind this shape for rotations!)\n",
    "                        #  Typ. 2^D for D in [10, 16]\n",
    "    't': 65537,         # Plaintext modulus. Encrypted operations happen modulo t\n",
    "                        #  Must be prime such that t-1 be divisible by 2^N.\n",
    "    't_bits': 20,       # Number of bits in t. Used to generate a suitable value \n",
    "                        #  for t. Overrides t if specified.\n",
    "    'sec': 128,         # Security parameter. The equivalent length of AES key in bits.\n",
    "                        #  Sets the ciphertext modulus q, can be one of {128, 192, 256}\n",
    "                        #  More means more security but also slower computation.\n",
    "}\n",
    "HE.contextGen(**bfv_params)  # Generate context for bfv scheme\n",
    "HE.keyGen()             # Key Generation: generates a pair of public/secret keys\n",
    "HE.rotateKeyGen()       # Rotate key generation --> Allows rotation/shifting\n",
    "HE.relinKeyGen()        # Relinearization key generation"
   ]
  },
  {
   "cell_type": "code",
   "execution_count": 3,
   "metadata": {
    "collapsed": false,
    "jupyter": {
     "outputs_hidden": false
    }
   },
   "outputs": [],
   "source": [
    "arr1 = np.array([1.0, 2.0, 3.0], dtype=np.double)    # Max possible value is t/2-1.\n",
    "arr2 = np.array([2.0, 3.0, 4.0], dtype=np.double)    # Min possible value is -t/2. \n",
    "\n",
    "ptxt1 = HE.encode(arr1)   # Creates a PyPtxt plaintext with the encoded arr1\n",
    "ptxt2 = HE.encode(arr2)   # plaintexts created from arrays shorter than 'n' are filled with zeros.\n",
    "\n",
    "ctxt1 = HE.encryptPtxt(ptxt1) # Encrypts the plaintext ptxt1 and returns a PyCtxt\n",
    "ctxt2 = HE.encryptPtxt(ptxt2) #  Alternatively you can use HE.encryptInt(arr2)\n",
    "\n",
    "# Otherwise, a single call to `HE.encrypt` would detect the data type,\n",
    "#  encode it and encrypt it\n",
    "#> ctxt1 = HE.encrypt(arr1)"
   ]
  },
  {
   "cell_type": "code",
   "execution_count": 4,
   "metadata": {
    "collapsed": false,
    "jupyter": {
     "outputs_hidden": false
    }
   },
   "outputs": [],
   "source": [
    "# Ciphertext-ciphertext ops:\n",
    "ccSum = ctxt1 + ctxt2       # Calls HE.add(ctxt1, ctxt2, in_new_ctxt=True)\n",
    "                            #  `ctxt1 += ctxt2` for inplace operation\n",
    "ccSub = ctxt1 - ctxt2       # Calls HE.sub(ctxt1, ctxt2, in_new_ctxt=True)\n",
    "                            #  `ctxt1 -= ctxt2` for inplace operation\n",
    "ccMul = ctxt1 * ctxt2       # Calls HE.multiply(ctxt1, ctxt2, in_new_ctxt=True)\n",
    "                            #  `ctxt1 *= ctxt2` for inplace operation\n",
    "~ccMul                      # relinearize\n",
    "    \n",
    "# Single Ciphertext ops:\n",
    "cSq   = ctxt1**2            # Calls HE.square(ctxt1, in_new_ctxt=True)\n",
    "                            #  `ctxt1 **= 2` for inplace operation\n",
    "cNeg  = -ctxt1              # Calls HE.negate(ctxt1, in_new_ctxt=True)\n",
    "                            # \n",
    "cPow  = ctxt1**3            # Calls HE.power(ctxt1, 3, in_new_ctxt=True)\n",
    "                            #  `ctxt1 **= 3` for inplace operation\n",
    "cRotR = ctxt1 >> 2          # Calls HE.rotate(ctxt1, k=2, in_new_ctxt=True)\n",
    "                            #  `ctxt1 >>= 2` for inplace operation\n",
    "                            # WARNING! the encoded data is placed in a n//2 by 2\n",
    "                            #  matrix. Hence, these rotations apply independently\n",
    "                            #  to each of the rows!\n",
    "cRotL = ctxt1 << 2          # Calls HE.rotate(ctxt1, k=-2, in_new_ctxt=True)\n",
    "                            #  `ctxt1 <<= 2` for inplace operation\n",
    "\n",
    "# Ciphertext-plaintext ops\n",
    "cpSum = ctxt1 + ptxt2       # Calls HE.add_plain(ctxt1, ptxt2, in_new_ctxt=True)\n",
    "                            # `ctxt1 += ctxt2` for inplace operation\n",
    "cpSub = ctxt1 - ptxt2       # Calls HE.sub_plain(ctxt1, ptxt2, in_new_ctxt=True)\n",
    "                            # `ctxt1 -= ctxt2` for inplace operation\n",
    "cpMul = ctxt1 * ptxt2       # Calls HE.multiply_plain(ctxt1, ptxt2, in_new_ctxt=True)\n",
    "                            # `ctxt1 *= ctxt2` for inplace operation"
   ]
  },
  {
   "cell_type": "code",
   "execution_count": 5,
   "metadata": {
    "collapsed": false,
    "jupyter": {
     "outputs_hidden": false
    }
   },
   "outputs": [
    {
     "name": "stdout",
     "output_type": "stream",
     "text": [
      " Original ciphertexts: \n",
      "   ->\tctxt1 --(decr)-->  [1 2 3 ... 0 0 0]\n",
      "   ->\tctxt2 --(decr)-->  [2 3 4 ... 0 0 0]\n",
      " Ciphertext-ciphertext Ops: \n",
      "   ->\tctxt1 + ctxt2 = ccSum --(decr)-->  [3 5 7 ... 0 0 0]\n",
      "   ->\tctxt1 - ctxt2 = ccSub --(decr)-->  [-1 -1 -1 ...  0  0  0]\n",
      "   ->\tctxt1 * ctxt2 = ccMul --(decr)-->  [ 2  6 12 ...  0  0  0]\n",
      " Single ciphertext: \n",
      "   ->\tctxt1**2      = cSq   --(decr)-->  [1 4 9 ... 0 0 0]\n",
      "   ->\t- ctxt1       = cNeg  --(decr)-->  [-1 -2 -3 ...  0  0  0]\n",
      "   ->\tctxt1**3      = cPow  --(decr)-->  [ 1  8 27 ...  0  0  0]\n",
      "   ->\tctxt1 >> 2    = cRotR --(decr)-->  [0 0 1 ... 0 0 0]\n",
      "   ->\tctxt1 << 2    = cRotL --(decr)-->  [3 0 0 ... 0 0 0]\n",
      " Ciphertext-plaintext ops: \n",
      "   ->\tctxt1 + ptxt2 = cpSum --(decr)-->  [3 5 7 ... 0 0 0]\n",
      "   ->\tctxt1 - ptxt2 = cpSub --(decr)-->  [-1 -1 -1 ...  0  0  0]\n",
      "   ->\tctxt1 * ptxt2 = cpMul --(decr)-->  [ 2  6 12 ...  0  0  0]\n"
     ]
    }
   ],
   "source": [
    "r1     = HE.decrypt(ctxt1)\n",
    "r2     = HE.decrypt(ctxt2)\n",
    "rccSum = HE.decrypt(ccSum)\n",
    "rccSub = HE.decrypt(ccSub)\n",
    "rccMul = HE.decrypt(ccMul)\n",
    "rcSq   = HE.decrypt(cSq  )\n",
    "rcNeg  = HE.decrypt(cNeg )\n",
    "rcPow  = HE.decrypt(cPow )\n",
    "rcRotR = HE.decrypt(cRotR)\n",
    "rcRotL = HE.decrypt(cRotL)\n",
    "rcpSum = HE.decrypt(cpSum)\n",
    "rcpSub = HE.decrypt(cpSub)\n",
    "rcpMul = HE.decrypt(cpMul)\n",
    "\n",
    "print(\" Original ciphertexts: \")\n",
    "print(\"   ->\\tctxt1 --(decr)--> \", r1)\n",
    "print(\"   ->\\tctxt2 --(decr)--> \", r2)\n",
    "print(\" Ciphertext-ciphertext Ops: \")\n",
    "print(\"   ->\\tctxt1 + ctxt2 = ccSum --(decr)--> \", rccSum)\n",
    "print(\"   ->\\tctxt1 - ctxt2 = ccSub --(decr)--> \", rccSub)\n",
    "print(\"   ->\\tctxt1 * ctxt2 = ccMul --(decr)--> \", rccMul)\n",
    "print(\" Single ciphertext: \")\n",
    "print(\"   ->\\tctxt1**2      = cSq   --(decr)--> \", rcSq  )\n",
    "print(\"   ->\\t- ctxt1       = cNeg  --(decr)--> \", rcNeg )\n",
    "print(\"   ->\\tctxt1**3      = cPow  --(decr)--> \", rcPow )\n",
    "print(\"   ->\\tctxt1 >> 2    = cRotR --(decr)--> \", rcRotR)\n",
    "print(\"   ->\\tctxt1 << 2    = cRotL --(decr)--> \", rcRotL)\n",
    "print(\" Ciphertext-plaintext ops: \")\n",
    "print(\"   ->\\tctxt1 + ptxt2 = cpSum --(decr)--> \", rcpSum)\n",
    "print(\"   ->\\tctxt1 - ptxt2 = cpSub --(decr)--> \", rcpSub)\n",
    "print(\"   ->\\tctxt1 * ptxt2 = cpMul --(decr)--> \", rcpMul)"
   ]
  }
 ],
 "metadata": {
  "kernelspec": {
   "display_name": "Python 3 (ipykernel)",
   "language": "python",
   "name": "python3"
  },
  "language_info": {
   "codemirror_mode": {
    "name": "ipython",
    "version": 3
   },
   "file_extension": ".py",
   "mimetype": "text/x-python",
   "name": "python",
   "nbconvert_exporter": "python",
   "pygments_lexer": "ipython3",
   "version": "3.8.10"
  }
 },
 "nbformat": 4,
 "nbformat_minor": 4
}
