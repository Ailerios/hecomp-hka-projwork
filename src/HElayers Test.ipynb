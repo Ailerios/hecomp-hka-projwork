{
 "cells": [
  {
   "cell_type": "markdown",
   "id": "c4007938-e9be-4056-8587-755bda39f0cf",
   "metadata": {},
   "source": [
    "# Tests"
   ]
  },
  {
   "cell_type": "code",
   "execution_count": 1,
   "id": "c3e954b9-a18c-472a-8784-dd9ea9875ac4",
   "metadata": {},
   "outputs": [
    {
     "name": "stdout",
     "output_type": "stream",
     "text": [
      "Imported pyhelayers 1.3.0\n"
     ]
    }
   ],
   "source": [
    "import pyhelayers\n",
    "import utils \n",
    "import copy\n",
    "utils.verify_memory()\n",
    "# Print the ciphertext content for demo purposes\n",
    "pyhelayers.get_print_options().print_encrypted_content=True \n",
    "print(\"Imported pyhelayers\", pyhelayers.VERSION)"
   ]
  },
  {
   "cell_type": "code",
   "execution_count": 2,
   "id": "67c0cfe8-480e-474e-a755-c17aee218dd3",
   "metadata": {},
   "outputs": [],
   "source": [
    "num_slots = 8192 # Number of slots per ciphertext\n",
    "multiplication_depth = 2 # Allow 2 levels of multiplications\n",
    "fractional_part_precision = 40 # Set the precision to 1/2^40.\n",
    "integer_part_precision = 20 # Set the largest number to 2^20.\n",
    "security_level = 128\n",
    "\n",
    "requirement = pyhelayers.HeConfigRequirement(\n",
    "    num_slots,\n",
    "    multiplication_depth,\n",
    "    fractional_part_precision,\n",
    "    integer_part_precision,\n",
    "    security_level)\n",
    "\n",
    "he_context = pyhelayers.DefaultContext()\n",
    "he_context.init(requirement)"
   ]
  },
  {
   "cell_type": "code",
   "execution_count": 3,
   "id": "b4020c8a-13fa-4a20-9d69-e3eb287dc227",
   "metadata": {},
   "outputs": [],
   "source": [
    "# Create the Encoder using the context.\n",
    "encoder = pyhelayers.Encoder(he_context)\n",
    "\n",
    "# Encode a vector.\n",
    "v1 = [8.0, 2.0, 3.0]\n",
    "p1 = encoder.encode(v1)\n",
    "c1 = encoder.encode_encrypt(v1)\n",
    "v2 = [2,3,4]\n",
    "p2 = encoder.encode(v2)\n",
    "c2 = encoder.encode_encrypt(v2)\n",
    "cAdd = copy.deepcopy(c1)\n",
    "cAdd.add(c2)\n",
    "cSub = copy.deepcopy(c1)\n",
    "cSub.sub(c2)\n",
    "cMult = copy.deepcopy(c1)  # relinearizes automatically\n",
    "cMult.multiply(c2)\n",
    "cSq = copy.deepcopy(c1)\n",
    "cSq.square()\n",
    "cNeg = copy.deepcopy(c1)\n",
    "cNeg.negate()\n",
    "# NOTE: HELAYERS DOES NOT HAVE A DESIGNATED POWER FCT\n",
    "cPow = copy.deepcopy(c1)\n",
    "for i in range(3-1):\n",
    "    cPow.multiply(c1)\n",
    "cRotR = copy.deepcopy(c1)\n",
    "cRotR.rotate(c1.slot_count() - 1)\n",
    "cRotL = copy.deepcopy(c1)\n",
    "cRotL.rotate(1)\n",
    "# Ciphertext-plaintext ops\n",
    "cpSum = copy.deepcopy(c1)\n",
    "cpSum.add_plain(p2)\n",
    "cpSub = copy.deepcopy(c1)\n",
    "cpSub.sub_plain(p2)\n",
    "cpMult = copy.deepcopy(c1)\n",
    "cpMult.multiply_plain(p2)\n",
    "\n",
    "# Decode the encoded vector.\n",
    "d1 = encoder.decrypt_decode_double(c1)\n",
    "d2 = encoder.decrypt_decode_double(c2)\n",
    "\n",
    "dAdd = encoder.decrypt_decode_double(cAdd)\n",
    "dSub = encoder.decrypt_decode_double(cSub)\n",
    "dMult = encoder.decrypt_decode_double(cMult)\n",
    "dSq = encoder.decrypt_decode_double(cSq)\n",
    "dNeg = encoder.decrypt_decode_double(cNeg)\n",
    "dPow = encoder.decrypt_decode_double(cPow)\n",
    "dRotR = encoder.decrypt_decode_double(cRotR)\n",
    "dRotL = encoder.decrypt_decode_double(cRotL)\n",
    "dcpSum = encoder.decrypt_decode_double(cpSum)\n",
    "dcpSub = encoder.decrypt_decode_double(cpSub)\n",
    "dcpMult = encoder.decrypt_decode_double(cpMult)"
   ]
  },
  {
   "cell_type": "code",
   "execution_count": 4,
   "id": "d03f7bdf-2388-456f-8bf2-5e88a3b4437f",
   "metadata": {},
   "outputs": [
    {
     "name": "stdout",
     "output_type": "stream",
     "text": [
      "Initial vector:   [8.0, 2.0, 3.0]\n",
      "Encrypted vector: CIPHERTEXT [703587965733386627 1080681253202402890 303379446208550837 806821731153072107 ...  690804556267 ]\n",
      "Decoded vector:   [8.         1.99999999 3.        ]\n",
      "d2:    [2. 3. 4.]\n",
      "\n",
      "dAdd:  [10.          4.99999999  7.        ]\n",
      "dSub:  [ 6. -1. -1.]\n",
      "dMult: [16.          5.99999998 12.        ]\n",
      "dSq: [63.99999998  3.99999998  9.00000001]\n",
      "dNeg: [-8.         -1.99999999 -3.        ]\n",
      "dPow: [511.99999959   7.99999994  27.00000003]\n",
      "dRotR: [1.24348731e-06 7.99999992e+00 2.00000034e+00]\n",
      "dRotL: [1.99999947e+00 3.00000013e+00 2.11319314e-09]\n",
      "dcpSum: [10.          4.99999999  7.        ]\n",
      "dcpSub: [ 6.         -1.00000001 -1.        ]\n",
      "dcpMult: [16.          5.99999999 12.        ]\n"
     ]
    }
   ],
   "source": [
    "print('Initial vector:   {}'.format(v1))\n",
    "print('Encrypted vector: {}'.format(c1))\n",
    "print('Decoded vector:   {}'.format(d1[:3]))\n",
    "print('d2:    {}'.format(d2[:3]))\n",
    "print()\n",
    "print('dAdd:  {}'.format(dAdd[:3]))\n",
    "print('dSub:  {}'.format(dSub[:3]))\n",
    "print('dMult: {}'.format(dMult[:3]))\n",
    "print('dSq: {}'.format(dSq[:3]))\n",
    "print('dNeg: {}'.format(dNeg[:3]))\n",
    "print('dPow: {}'.format(dPow[:3]))\n",
    "print('dRotR: {}'.format(dRotR[:3]))\n",
    "print('dRotL: {}'.format(dRotL[:3]))\n",
    "print('dcpSum: {}'.format(dcpSum[:3]))\n",
    "print('dcpSub: {}'.format(dcpSub[:3]))\n",
    "print('dcpMult: {}'.format(dcpMult[:3]))"
   ]
  },
  {
   "cell_type": "code",
   "execution_count": 5,
   "id": "83b4f50e-22ce-4cbb-9190-74d6409f98f0",
   "metadata": {},
   "outputs": [
    {
     "name": "stdout",
     "output_type": "stream",
     "text": [
      "[0.03986796221091615]\n",
      "[1.5534933759168017]\n",
      "rMul:  [8.94367903e-09 9.63465970e-11 3.92240576e-10]\n",
      "0.04662680625915527\n"
     ]
    }
   ],
   "source": [
    "import time\n",
    "import random\n",
    "\n",
    "start = time.time()\n",
    "\n",
    "num_numbers = 1\n",
    "v1 = [0] * num_numbers\n",
    "for i in range(num_numbers):\n",
    "    v1[i] = random.random() * 2\n",
    "p1 = encoder.encode(v1)\n",
    "c1 = encoder.encode_encrypt(v1)\n",
    "print(v1)\n",
    "\n",
    "v2 = [0] * num_numbers\n",
    "for i in range(num_numbers):\n",
    "    v2[i] = random.random() * 2\n",
    "p2 = encoder.encode(v2)\n",
    "c2 = encoder.encode_encrypt(v2)\n",
    "print(v2)\n",
    "\n",
    "num_mults = 2\n",
    "for i in range(num_mults):\n",
    "    c1.multiply(c2)\n",
    "    \n",
    "rMul = encoder.decrypt_decode_double(c1)\n",
    "print('rMul:  {}'.format(rMul[:3]))\n",
    "\n",
    "end = time.time()\n",
    "print(end - start)"
   ]
  }
 ],
 "metadata": {
  "kernelspec": {
   "display_name": "Python 3 (ipykernel)",
   "language": "python",
   "name": "python3"
  },
  "language_info": {
   "codemirror_mode": {
    "name": "ipython",
    "version": 3
   },
   "file_extension": ".py",
   "mimetype": "text/x-python",
   "name": "python",
   "nbconvert_exporter": "python",
   "pygments_lexer": "ipython3",
   "version": "3.8.10"
  }
 },
 "nbformat": 4,
 "nbformat_minor": 5
}
