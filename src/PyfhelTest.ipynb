{
 "cells": [
  {
   "cell_type": "code",
   "execution_count": 1,
   "metadata": {
    "collapsed": false,
    "jupyter": {
     "outputs_hidden": false
    }
   },
   "outputs": [],
   "source": [
    "%matplotlib inline"
   ]
  },
  {
   "cell_type": "markdown",
   "metadata": {},
   "source": [
    "\n",
    "# Double FHE with BFV scheme\n",
    "\n",
    "Integer FHE Demo for Pyfhel, covering all the posibilities offered by Pyfhel\n",
    "regarding the BFV scheme (see https://eprint.iacr.org/2012/144.pdf).\n"
   ]
  },
  {
   "cell_type": "code",
   "execution_count": 2,
   "metadata": {
    "collapsed": false,
    "jupyter": {
     "outputs_hidden": false
    }
   },
   "outputs": [],
   "source": [
    "import numpy as np\n",
    "from Pyfhel import Pyfhel"
   ]
  },
  {
   "cell_type": "markdown",
   "metadata": {},
   "source": [
    "## 1. BFV context and key setup\n",
    "We take a look at the different parameters that can be set for the BFV scheme.\n",
    "\n"
   ]
  },
  {
   "cell_type": "code",
   "execution_count": 3,
   "metadata": {
    "collapsed": false,
    "jupyter": {
     "outputs_hidden": false
    }
   },
   "outputs": [
    {
     "name": "stdout",
     "output_type": "stream",
     "text": [
      "\n",
      "1. Pyfhel FHE context generation\n",
      "\t<bfv Pyfhel obj at 0x7f53ec3392b0, [pk:Y, sk:Y, rtk:Y, rlk:Y, contx(n=8192, t=1032193, sec=128, qi=[], scale=1.0, )]>\n"
     ]
    }
   ],
   "source": [
    "HE = Pyfhel()           # Creating empty Pyfhel object\n",
    "bfv_params = {\n",
    "    'scheme': 'BFV',    # can also be 'bfv'\n",
    "    'n': 2**13,         # Polynomial modulus degree, the num. of slots per plaintext,\n",
    "                        #  of elements to be encoded in a single ciphertext in a\n",
    "                        #  2 by n/2 rectangular matrix (mind this shape for rotations!)\n",
    "                        #  Typ. 2^D for D in [10, 16]\n",
    "    't': 65537,         # Plaintext modulus. Encrypted operations happen modulo t\n",
    "                        #  Must be prime such that t-1 be divisible by 2^N.\n",
    "    't_bits': 20,       # Number of bits in t. Used to generate a suitable value \n",
    "                        #  for t. Overrides t if specified.\n",
    "    'sec': 128,         # Security parameter. The equivalent length of AES key in bits.\n",
    "                        #  Sets the ciphertext modulus q, can be one of {128, 192, 256}\n",
    "                        #  More means more security but also slower computation.\n",
    "}\n",
    "HE.contextGen(**bfv_params)  # Generate context for bfv scheme\n",
    "HE.keyGen()             # Key Generation: generates a pair of public/secret keys\n",
    "HE.rotateKeyGen()       # Rotate key generation --> Allows rotation/shifting\n",
    "HE.relinKeyGen()        # Relinearization key generation\n",
    "\n",
    "print(\"\\n1. Pyfhel FHE context generation\")\n",
    "print(f\"\\t{HE}\")"
   ]
  },
  {
   "cell_type": "markdown",
   "metadata": {},
   "source": [
    "## 2. Double Array Encoding & Encryption\n",
    "we will define two 1D double arrays, encode and encrypt them:\n",
    "arr1 = [0, 1, ... n-1] (length n)\n",
    "arr2 = [-t//2, -1, 1]  (length 3) --> Encoding fills the rest of the array with zeros\n",
    "\n"
   ]
  },
  {
   "cell_type": "code",
   "execution_count": 4,
   "metadata": {
    "collapsed": false,
    "jupyter": {
     "outputs_hidden": false
    }
   },
   "outputs": [
    {
     "name": "stdout",
     "output_type": "stream",
     "text": [
      "\n",
      "2. Double Encoding & Encryption, \n",
      "->\tarr1  [1. 2. 3.] \n",
      "\t==> ptxt1  <Pyfhel Plaintext at 0x7f53ec267a80, scheme=bfv, poly=3C6DDx^8191 + C0707x^8190..., is_ntt=-> \n",
      "\t==> ctxt1  <Pyfhel Ciphertext at 0x7f53ec1f0f90, scheme=bfv, size=2/2, noiseBudget=146>\n",
      "->\tarr2  [2. 3. 4.] \n",
      "\t==> ptxt2  <Pyfhel Plaintext at 0x7f53ebd48900, scheme=bfv, poly=7338Dx^8191 + 2036Fx^8190..., is_ntt=-> \n",
      "\t==> ctxt2  <Pyfhel Ciphertext at 0x7f53ebd4b860, scheme=bfv, size=2/2, noiseBudget=146>\n"
     ]
    }
   ],
   "source": [
    "arr1 = np.array([1.0, 2.0, 3.0], dtype=np.double)    # Max possible value is t/2-1. Always use type int64!\n",
    "arr2 = np.array([2.0, 3.0, 4.0], dtype=np.double)    # Min possible value is -t/2. \n",
    "\n",
    "ptxt1 = HE.encode(arr1)   # Creates a PyPtxt plaintext with the encoded arr1\n",
    "ptxt2 = HE.encode(arr2)   # plaintexts created from arrays shorter than 'n' are filled with zeros.\n",
    "\n",
    "ctxt1 = HE.encryptPtxt(ptxt1) # Encrypts the plaintext ptxt1 and returns a PyCtxt\n",
    "ctxt2 = HE.encryptPtxt(ptxt2) #  Alternatively you can use HE.encryptInt(arr2)\n",
    "\n",
    "# Otherwise, a single call to `HE.encrypt` would detect the data type,\n",
    "#  encode it and encrypt it\n",
    "#> ctxt1 = HE.encrypt(arr1)\n",
    "\n",
    "print(\"\\n2. Double Encoding & Encryption, \")\n",
    "print(\"->\\tarr1 \", arr1,'\\n\\t==> ptxt1 ', ptxt1,'\\n\\t==> ctxt1 ', ctxt1)\n",
    "print(\"->\\tarr2 \", arr2,'\\n\\t==> ptxt2 ', ptxt2,'\\n\\t==> ctxt2 ', ctxt2)"
   ]
  },
  {
   "cell_type": "markdown",
   "metadata": {},
   "source": [
    "## 3. Securely operating on encrypted double arrays\n",
    "We try all the operations supported by Pyfhel.\n",
    " Note that, to operate, the ciphertexts/plaintexts must be built with the same\n",
    " context. Internal checks prevent ops between ciphertexts of different contexts.\n",
    "\n"
   ]
  },
  {
   "cell_type": "code",
   "execution_count": 5,
   "metadata": {
    "collapsed": false,
    "jupyter": {
     "outputs_hidden": false
    }
   },
   "outputs": [
    {
     "name": "stdout",
     "output_type": "stream",
     "text": [
      "3. Secure operations\n",
      " Ciphertext-ciphertext: \n",
      "->\tctxt1 + ctxt2 = ccSum:  <Pyfhel Ciphertext at 0x7f53ec1646d0, scheme=bfv, size=2/2, noiseBudget=145>\n",
      "->\tctxt1 - ctxt2 = ccSub:  <Pyfhel Ciphertext at 0x7f53ebd590e0, scheme=bfv, size=2/2, noiseBudget=146>\n",
      "->\tctxt1 * ctxt2 = ccMul:  <Pyfhel Ciphertext at 0x7f53ebd59130, scheme=bfv, size=3/3, noiseBudget=114>\n",
      " Single ciphertext: \n",
      "->\tctxt1**2      = cSq  :  <Pyfhel Ciphertext at 0x7f53ebd59180, scheme=bfv, size=3/3, noiseBudget=114>\n",
      "->\t- ctxt1       = cNeg :  <Pyfhel Ciphertext at 0x7f53ebd59220, scheme=bfv, size=2/2, noiseBudget=146>\n",
      "->\tctxt1**3      = cPow :  <Pyfhel Ciphertext at 0x7f53ebd59270, scheme=bfv, size=2/2, noiseBudget=82>\n",
      "->\tctxt1 >> 2    = cRotR:  <Pyfhel Ciphertext at 0x7f53ebd592c0, scheme=bfv, size=2/2, noiseBudget=142>\n",
      "->\tctxt1 << 2    = cRotL:  <Pyfhel Ciphertext at 0x7f53ebd59310, scheme=bfv, size=2/2, noiseBudget=143>\n",
      " Ciphertext-plaintext: \n",
      "->\tctxt1 + ptxt2 = cpSum:  <Pyfhel Ciphertext at 0x7f53ec146540, scheme=bfv, size=2/2, noiseBudget=146>\n",
      "->\tctxt1 - ptxt2 = cpSub:  <Pyfhel Ciphertext at 0x7f53ebd59360, scheme=bfv, size=2/2, noiseBudget=146>\n",
      "->\tctxt1 * ptxt2 = cpMul:  <Pyfhel Ciphertext at 0x7f53ebd593b0, scheme=bfv, size=2/2, noiseBudget=121>\n"
     ]
    }
   ],
   "source": [
    "# Ciphertext-ciphertext ops:\n",
    "ccSum = ctxt1 + ctxt2       # Calls HE.add(ctxt1, ctxt2, in_new_ctxt=True)\n",
    "                            #  `ctxt1 += ctxt2` for inplace operation\n",
    "ccSub = ctxt1 - ctxt2       # Calls HE.sub(ctxt1, ctxt2, in_new_ctxt=True)\n",
    "                            #  `ctxt1 -= ctxt2` for inplace operation\n",
    "ccMul = ctxt1 * ctxt2       # Calls HE.multiply(ctxt1, ctxt2, in_new_ctxt=True)\n",
    "                            #  `ctxt1 *= ctxt2` for inplace operation\n",
    "cSq   = ctxt1**2            # Calls HE.square(ctxt1, in_new_ctxt=True)\n",
    "                            #  `ctxt1 **= 2` for inplace operation\n",
    "cNeg  = -ctxt1              # Calls HE.negate(ctxt1, in_new_ctxt=True)\n",
    "                            # \n",
    "cPow  = ctxt1**3            # Calls HE.power(ctxt1, 3, in_new_ctxt=True)\n",
    "                            #  `ctxt1 **= 3` for inplace operation\n",
    "cRotR = ctxt1 >> 2          # Calls HE.rotate(ctxt1, k=2, in_new_ctxt=True)\n",
    "                            #  `ctxt1 >>= 2` for inplace operation\n",
    "                            # WARNING! the encoded data is placed in a n//2 by 2\n",
    "                            #  matrix. Hence, these rotations apply independently\n",
    "                            #  to each of the rows!\n",
    "cRotL = ctxt1 << 2          # Calls HE.rotate(ctxt1, k=-2, in_new_ctxt=True)\n",
    "                            #  `ctxt1 <<= 2` for inplace operation\n",
    "\n",
    "# Ciphetext-plaintext ops\n",
    "cpSum = ctxt1 + ptxt2       # Calls HE.add_plain(ctxt1, ptxt2, in_new_ctxt=True)\n",
    "                            # `ctxt1 += ctxt2` for inplace operation\n",
    "cpSub = ctxt1 - ptxt2       # Calls HE.sub_plain(ctxt1, ptxt2, in_new_ctxt=True)\n",
    "                            # `ctxt1 -= ctxt2` for inplace operation\n",
    "cpMul = ctxt1 * ptxt2       # Calls HE.multiply_plain(ctxt1, ptxt2, in_new_ctxt=True)\n",
    "                            # `ctxt1 *= ctxt2` for inplace operation\n",
    "\n",
    "\n",
    "print(\"3. Secure operations\")\n",
    "print(\" Ciphertext-ciphertext: \")\n",
    "print(\"->\\tctxt1 + ctxt2 = ccSum: \", ccSum)\n",
    "print(\"->\\tctxt1 - ctxt2 = ccSub: \", ccSub)\n",
    "print(\"->\\tctxt1 * ctxt2 = ccMul: \", ccMul)\n",
    "print(\" Single ciphertext: \")\n",
    "print(\"->\\tctxt1**2      = cSq  : \", cSq  )\n",
    "print(\"->\\t- ctxt1       = cNeg : \", cNeg )\n",
    "print(\"->\\tctxt1**3      = cPow : \", cPow )\n",
    "print(\"->\\tctxt1 >> 2    = cRotR: \", cRotR)\n",
    "print(\"->\\tctxt1 << 2    = cRotL: \", cRotL)\n",
    "print(\" Ciphertext-plaintext: \")\n",
    "print(\"->\\tctxt1 + ptxt2 = cpSum: \", cpSum)\n",
    "print(\"->\\tctxt1 - ptxt2 = cpSub: \", cpSub)\n",
    "print(\"->\\tctxt1 * ptxt2 = cpMul: \", cpMul)"
   ]
  },
  {
   "cell_type": "markdown",
   "metadata": {},
   "source": [
    "## 4. BFV Relinearization: What, why, when\n",
    "Ciphertext-ciphertext multiplications increase the size of the polynoms \n",
    " representing the resulting ciphertext. To prevent this growth, the \n",
    " relinearization technique is used (typically right after each c-c mult) to \n",
    " reduce the size of a ciphertext back to the minimal size (two polynoms c0 & c1).\n",
    " For this, a special type of public key called Relinearization Key is used.\n",
    "\n",
    "In Pyfhel, you can either generate a relin key with HE.RelinKeyGen() or skip it\n",
    " and call HE.relinearize() directly, in which case a warning is issued.\n",
    "\n",
    "Note that HE.power performs relinearization after every multiplication.\n",
    "\n"
   ]
  },
  {
   "cell_type": "code",
   "execution_count": 6,
   "metadata": {
    "collapsed": false,
    "jupyter": {
     "outputs_hidden": false
    }
   },
   "outputs": [
    {
     "name": "stdout",
     "output_type": "stream",
     "text": [
      "\n",
      "4. Relinearization-> Right after each multiplication.\n",
      "ccMul before relinearization (size 3): <Pyfhel Ciphertext at 0x7f53ebd59130, scheme=bfv, size=3/3, noiseBudget=114>\n",
      "ccMul after relinearization (size 2): <Pyfhel Ciphertext at 0x7f53ebd59130, scheme=bfv, size=2/3, noiseBudget=114>\n",
      "cPow after 2 mult&relin rounds:  (size 2): <Pyfhel Ciphertext at 0x7f53ebd59270, scheme=bfv, size=2/2, noiseBudget=82>\n"
     ]
    }
   ],
   "source": [
    "print(\"\\n4. Relinearization-> Right after each multiplication.\")\n",
    "print(f\"ccMul before relinearization (size {ccMul.size()}): {ccMul}\")\n",
    "~ccMul    # Equivalent to HE.relinearize(ccMul). Relin always happens in-place.\n",
    "print(f\"ccMul after relinearization (size {ccMul.size()}): {ccMul}\")\n",
    "print(f\"cPow after 2 mult&relin rounds:  (size {cPow.size()}): {cPow}\")"
   ]
  },
  {
   "cell_type": "markdown",
   "metadata": {},
   "source": [
    "## 5. Decrypt & Decode results\n",
    "Time to decrypt results! We use HE.decryptInt for this. \n",
    " HE.decrypt() could also be used, in which case the decryption type would be\n",
    " inferred from the ciphertext metadata. \n",
    "\n"
   ]
  },
  {
   "cell_type": "code",
   "execution_count": 7,
   "metadata": {
    "collapsed": false,
    "jupyter": {
     "outputs_hidden": false
    }
   },
   "outputs": [
    {
     "name": "stdout",
     "output_type": "stream",
     "text": [
      "5. Decrypting results\n",
      " Original ciphertexts: \n",
      "   ->\tctxt1 --(decr)-->  [1 2 3 ... 0 0 0]\n",
      "   ->\tctxt2 --(decr)-->  [2 3 4 ... 0 0 0]\n",
      " Ciphertext-ciphertext Ops: \n",
      "   ->\tctxt1 + ctxt2 = ccSum --(decr)-->  [3 5 7 ... 0 0 0]\n",
      "   ->\tctxt1 - ctxt2 = ccSub --(decr)-->  [-1 -1 -1 ...  0  0  0]\n",
      "   ->\tctxt1 * ctxt2 = ccMul --(decr)-->  [ 2  6 12 ...  0  0  0]\n",
      " Single ciphertext: \n",
      "   ->\tctxt1**2      = cSq   --(decr)-->  [1 4 9 ... 0 0 0]\n",
      "   ->\t- ctxt1       = cNeg  --(decr)-->  [-1 -2 -3 ...  0  0  0]\n",
      "   ->\tctxt1**3      = cPow  --(decr)-->  [ 1  8 27 ...  0  0  0]\n",
      "   ->\tctxt1 >> 2    = cRotR --(decr)-->  [0 0 1 ... 0 0 0]\n",
      "   ->\tctxt1 << 2    = cRotL --(decr)-->  [3 0 0 ... 0 0 0]\n",
      " Ciphertext-plaintext ops: \n",
      "   ->\tctxt1 + ptxt2 = cpSum --(decr)-->  [3 5 7 ... 0 0 0]\n",
      "   ->\tctxt1 - ptxt2 = cpSub --(decr)-->  [-1 -1 -1 ...  0  0  0]\n",
      "   ->\tctxt1 * ptxt2 = cpMul --(decr)-->  [ 2  6 12 ...  0  0  0]\n"
     ]
    }
   ],
   "source": [
    "r1     = HE.decrypt(ctxt1)\n",
    "r2     = HE.decrypt(ctxt2)\n",
    "rccSum = HE.decrypt(ccSum)\n",
    "rccSub = HE.decrypt(ccSub)\n",
    "rccMul = HE.decrypt(ccMul)\n",
    "rcSq   = HE.decrypt(cSq  )\n",
    "rcNeg  = HE.decrypt(cNeg )\n",
    "rcPow  = HE.decrypt(cPow )\n",
    "rcRotR = HE.decrypt(cRotR)\n",
    "rcRotL = HE.decrypt(cRotL)\n",
    "rcpSum = HE.decrypt(cpSum)\n",
    "rcpSub = HE.decrypt(cpSub)\n",
    "rcpMul = HE.decrypt(cpMul)\n",
    "\n",
    "print(\"5. Decrypting results\")\n",
    "print(\" Original ciphertexts: \")\n",
    "print(\"   ->\\tctxt1 --(decr)--> \", r1)\n",
    "print(\"   ->\\tctxt2 --(decr)--> \", r2)\n",
    "print(\" Ciphertext-ciphertext Ops: \")\n",
    "print(\"   ->\\tctxt1 + ctxt2 = ccSum --(decr)--> \", rccSum)\n",
    "print(\"   ->\\tctxt1 - ctxt2 = ccSub --(decr)--> \", rccSub)\n",
    "print(\"   ->\\tctxt1 * ctxt2 = ccMul --(decr)--> \", rccMul)\n",
    "print(\" Single ciphertext: \")\n",
    "print(\"   ->\\tctxt1**2      = cSq   --(decr)--> \", rcSq  )\n",
    "print(\"   ->\\t- ctxt1       = cNeg  --(decr)--> \", rcNeg )\n",
    "print(\"   ->\\tctxt1**3      = cPow  --(decr)--> \", rcPow )\n",
    "print(\"   ->\\tctxt1 >> 2    = cRotR --(decr)--> \", rcRotR)\n",
    "print(\"   ->\\tctxt1 << 2    = cRotL --(decr)--> \", rcRotL)\n",
    "print(\" Ciphertext-plaintext ops: \")\n",
    "print(\"   ->\\tctxt1 + ptxt2 = cpSum --(decr)--> \", rcpSum)\n",
    "print(\"   ->\\tctxt1 - ptxt2 = cpSub --(decr)--> \", rcpSub)\n",
    "print(\"   ->\\tctxt1 * ptxt2 = cpMul --(decr)--> \", rcpMul)"
   ]
  }
 ],
 "metadata": {
  "kernelspec": {
   "display_name": "Python 3 (ipykernel)",
   "language": "python",
   "name": "python3"
  },
  "language_info": {
   "codemirror_mode": {
    "name": "ipython",
    "version": 3
   },
   "file_extension": ".py",
   "mimetype": "text/x-python",
   "name": "python",
   "nbconvert_exporter": "python",
   "pygments_lexer": "ipython3",
   "version": "3.8.10"
  }
 },
 "nbformat": 4,
 "nbformat_minor": 4
}
